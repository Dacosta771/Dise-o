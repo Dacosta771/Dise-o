{
 "cells": [
  {
   "cell_type": "markdown",
   "metadata": {},
   "source": [
    "### Diseño de zapatas"
   ]
  },
  {
   "cell_type": "code",
   "execution_count": 1,
   "metadata": {},
   "outputs": [
    {
     "name": "stdout",
     "output_type": "stream",
     "text": [
      "NO se excede la capacidad última del suelo:\n",
      "    Los esfuerzos en las 4 esquinas de la zapata son:  [0.3125, 0.1389, -0.0347, 0.1389] MPa\n",
      "\n",
      "¡¡SÍ hay levantamiento de la zapata!!\n",
      "\n",
      "NO FALLA por punzonamiento. La zapata cumple:\n",
      "    La zapata resiste  0.637 MN. La columna transmite  0.0463 MN\n",
      "\n",
      "SÍ CUMPLE cortante en la cara X:\n",
      "    Cortante en la cara X =  0.0097 MN.  La cara X resiste  0.1893 MN\n",
      "\n",
      "SÍ CUMPLE cortante en la cara Y:\n",
      "    Cortante en la cara X =  0.0097 MN.  La cara X resiste  0.1893 MN\n",
      "\n",
      "La cuantía de acero en la cara X es  0.000162 :\n",
      "    El área de refuerzo a flexión en la cara X es 52.49 mm^2\n",
      "\n",
      "La cuantía de acero en la cara Y es  0.000162 :\n",
      "    El área de refuerzo a flexión en la cara Y es 52.49 mm^2\n"
     ]
    }
   ],
   "source": [
    "from math import sqrt\n",
    "\n",
    "\"\"\"********** Valores a ingresar por el usuario **********\n",
    "*******************************************************\"\"\"\n",
    "\n",
    "# Datos de las condiciones de servicio *************\n",
    "# Fuerzas en kN. Momentos en kN-m. dimensiones en m.\n",
    "P_serv = 200                   \n",
    "Mx_serv = 25                   \n",
    "My_serv = 25                   \n",
    "ex_serv = Mx_serv/P_serv    # Excentricidad en x.     \n",
    "ey_serv = My_serv/P_serv    # Excentricidad en y.     \n",
    "\n",
    "# Datos de resistencia *****************************\n",
    "# Fuerzas en kN. Momentos en kN-m. dimensiones en m.\n",
    "P_ult = 57                    \n",
    "Mx_ult = 0                    \n",
    "My_ult = 0                    \n",
    "ex_ult = Mx_ult/P_ult       # Excentricidad en x.      \n",
    "ey_ult = My_ult/P_ult       # Excentricidad en y.      \n",
    "\n",
    "# Datos geométricos de zapata y pedestal ***********\n",
    "# Todos los datos son en metros.\n",
    "Lx = 1.2                        \n",
    "Ly = 1.2                        \n",
    "h = 0.35                       \n",
    "r = 0.08    # Recubrimiento al centroide                    \n",
    "d = h - r                     \n",
    "bx = 0.25\n",
    "by = 0.25\n",
    "perimetro = 2*(bx + d + by + d)\n",
    "\n",
    "# Datos de los materiales **************************\n",
    "# Todos en MPa\n",
    "fy = 420        # Fluencia del acero       \n",
    "fc = 21         # Resistencia del concreto      \n",
    "q = 0.35        # Capacidad última del suelo \n",
    "\n",
    "\n",
    "\"\"\"\"********** Cálculos del programa **********************\n",
    "********************************************************\"\"\"\n",
    "\n",
    "# Esfuerzos en el suelo bajo condiciones de servicio\n",
    "axi = (P_serv/1000)/(Lx*Ly)    # En MPa\n",
    "esfuerzo = [round(axi*(1 + 6*ex_serv/Lx + 6*ey_serv/Ly), 4), round(axi*(1 + 6*ex_serv/Lx - 6*ey_serv/Ly), 4),\n",
    "           round(axi*(1 - 6*ex_serv/Lx - 6*ey_serv/Ly), 4), round(axi*(1 - 6*ex_serv/Lx + 6*ey_serv/Ly), 4)]   # En MPa\n",
    "\n",
    "# Comprobación de los esfuerzos en el suelo **********\n",
    "idx = 0\n",
    "mensaje1 = ''\n",
    "while idx < 4:\n",
    "    if esfuerzo[idx] < q:\n",
    "        mensaje1 = 'NO se excede la capacidad última del suelo:'\n",
    "    else:\n",
    "        mensaje1 = '¡¡SÍ se excede la capacidad última del suelo!!'\n",
    "        break\n",
    "    idx = idx + 1\n",
    "\n",
    "print(mensaje1)\n",
    "print('    Los esfuerzos en las 4 esquinas de la zapata son: ', esfuerzo, 'MPa\\n')\n",
    "\n",
    "# Comprobación de volcamiento de la zapata ***********\n",
    "idx = 0\n",
    "mensaje2 = ''\n",
    "while idx < 4:\n",
    "    if esfuerzo[idx] >= 0:\n",
    "        mensaje2 = 'NO hay levantamiento de la zapata\\n'\n",
    "    else:\n",
    "        mensaje2 = '¡¡SÍ hay levantamiento de la zapata!!\\n'\n",
    "        break\n",
    "    idx = idx + 1\n",
    "\n",
    "print(mensaje2)\n",
    "\n",
    "\n",
    "\"\"\"********** Diseño estructural de la zapata *************\n",
    "********************************************************\"\"\"\n",
    "\n",
    "# Esfuerzo en el suelo bajo cargas últimas (Para el diseño de la zapata)\n",
    "axi2 = (P_ult/1000)/(Lx*Ly)   # En MPa\n",
    "esfuerzo_ult = [axi2*(1 + 6*ex_ult/Lx + 6*ey_ult/Ly), axi2*(1 + 6*ex_ult/Lx - 6*ey_ult/Ly),\n",
    "           axi2*(1 - 6*ex_ult/Lx - 6*ey_ult/Ly), axi2*(1 - 6*ex_ult/Lx + 6*ey_ult/Ly)]   # En MPa\n",
    "\n",
    "phi, alpha, beta = 0.75, 40, bx/by\n",
    "q_medio = sum(esfuerzo_ult)/4   # En MPa\n",
    "c = phi*perimetro*d*sqrt(fc)    # En sqrt(f'c), f'c se usa en MPa. Los resultados dan en kN\n",
    "\n",
    "# Comprobación del punzonamiento ***************************************\n",
    "corte_max = [0.17*(1 + 2/beta)*c, 0.083*(alpha*d/perimetro + 2)*c, 0.33*c]   # ¡¡Resultado en MN!!\n",
    "v1 = q_medio*(Lx*Ly - (bx + d)*(by + d))    # En MN\n",
    "\n",
    "idx = 0\n",
    "mensaje3 = ''\n",
    "while idx < 3:\n",
    "    if v1 < corte_max[idx]:\n",
    "        mensaje3 = 'NO FALLA por punzonamiento. La zapata cumple:'\n",
    "    else:\n",
    "        mensaje3 = '¡¡FALLA por punzonamiento. La zapata NO cumple!!'\n",
    "        break\n",
    "    idx = idx + 1\n",
    "\n",
    "print(mensaje3)\n",
    "print('    La zapata resiste ', round(min(corte_max), 4), 'MN' '. La columna transmite ',\n",
    "      round(v1, 4), 'MN\\n')\n",
    "\n",
    "# comprobación de cortante unidireccional ******************************\n",
    "v2 = [q_medio*Ly*((Lx-bx)/2 - d), q_medio*Lx*((Ly - by)/2 - d)]   # ¡¡Resultado en MN!!\n",
    "\n",
    "if v2[0] >= phi*0.17*Ly*d*sqrt(fc):            # phi*0.17*Ly*d*sqrt(fc) da resultado en MN\n",
    "    print('NO CUMPLE cortante en la cara X\\n')\n",
    "else:\n",
    "    print('SÍ CUMPLE cortante en la cara X:')\n",
    "    print('    Cortante en la cara X = ', round(v2[0], 4), 'MN.', ' La cara X resiste ',\n",
    "          round(phi*0.17*Ly*d*sqrt(fc), 4), 'MN\\n')\n",
    "    \n",
    "if v2[1] >= phi*0.17*Lx*d*sqrt(fc):            # phi*0.17*Lx*d*sqrt(fc) da resultado en MN\n",
    "    print('NO CUMPLE cortante en la cara Y\\n')\n",
    "else:\n",
    "    print('SÍ CUMPLE cortante en la cara Y:')\n",
    "    print('    Cortante en la cara X = ', round(v2[1], 4), 'MN.', ' La cara X resiste ',\n",
    "          round(phi*0.17*Lx*d*sqrt(fc), 4), 'MN\\n')\n",
    "    \n",
    "# Refuerzo a flexión ***************************************************\n",
    "Mu = [q_medio*((Lx/2 - bx/2)**2)*Ly/2, q_medio*((Ly/2 - by/2)**2)*Lx/2]   # ¡¡Resultado em MN-m!!\n",
    "\n",
    "# Cuantía en la cara x\n",
    "Rnx = (Mu[0])/(0.9*Ly*d**2)\n",
    "Bx = 2*Rnx/(0.85*fc)\n",
    "if (Bx >= 1):\n",
    "    print('Revisar el valor de Mu[0]\\n')\n",
    "else:\n",
    "    rho_x = round((0.85*fc/fy)*(1 - sqrt(1 - Bx)), 6)\n",
    "    A_x = round(rho_x*Ly*d*1000**2, 2)\n",
    "\n",
    "# Cuantía en la cara y    \n",
    "Rny = (Mu[1])/(0.9*Lx*d**2)\n",
    "By = 2*Rny/(0.85*fc)\n",
    "if (By >= 1):\n",
    "    print('Revisar el valor de Mu[1]\\n')\n",
    "else:\n",
    "    rho_y = round((0.85*fc/fy)*(1 - sqrt(1 - By)), 6)\n",
    "    A_y = round(rho_y*Lx*d*1000**2, 2)\n",
    "\n",
    "print('La cuantía de acero en la cara X es ', rho_x, ':')\n",
    "print('    El área de refuerzo a flexión en la cara X es', A_x, 'mm^2\\n')\n",
    "print('La cuantía de acero en la cara Y es ', rho_y, ':')\n",
    "print('    El área de refuerzo a flexión en la cara Y es', A_y, 'mm^2')"
   ]
  },
  {
   "cell_type": "code",
   "execution_count": 6,
   "metadata": {},
   "outputs": [
    {
     "data": {
      "image/png": "[encoded data removed]",
      "text/plain": [
       "<Figure size 720x720 with 2 Axes>"
      ]
     },
     "metadata": {
      "needs_background": "light"
     },
     "output_type": "display_data"
    }
   ],
   "source": [
    "import numpy as np\n",
    "import matplotlib.pyplot as plt\n",
    "\n",
    "a, b, c = (esfuerzo[1] - esfuerzo[2])/Lx, (esfuerzo[3] - esfuerzo[2])/Ly, esfuerzo[2]\n",
    "x, y = np.linspace(0, Lx, 100), np.linspace(0, Ly, 100)\n",
    "X, Y = np.meshgrid(x, y)\n",
    "Z = a*X - b*Y + c\n",
    "    \n",
    "\n",
    "\"\"\"\n",
    "fig = plt.figure()\n",
    "ax = fig.add_subplot(111)\n",
    "\n",
    "#x = y = np.linspace(0, Lx, 100)\n",
    "#X,Y = np.meshgrid(x,y)\n",
    "#Z = (-4*X)/(X**2 + Y**2 + 1)\n",
    "\n",
    "cs = ax.contour(X,Y,Z)\n",
    "plt.show()\n",
    "print(Z)\n",
    "print(esf)\n",
    "\n",
    "N=M=200\n",
    "x, y = np.ogrid[0:20:N*1j, 0:20:M*10]\n",
    "data = np.sin(np.pi*x*2/20)*np.cos(np.pi*y*2/20)\"\"\"\n",
    "\n",
    "fig, ax1 = plt.subplots(1, figsize=(10,10))\n",
    "im = ax1.imshow(Z, extent=[0,Lx,0,Ly])\n",
    "fig.colorbar(im, ax=ax1, shrink=0.85)\n",
    "plt.title('ESFUERZOS EN EL SUELO BAJO LA ZAPATA')\n",
    "plt.xlabel('Esfuerzo (en MPa)')\n",
    "plt.ylabel('Esfuerzo (en MPa)')\n",
    "plt.plot;"
   ]
  },
  {
   "cell_type": "code",
   "execution_count": 8,
   "metadata": {},
   "outputs": [
    {
     "data": {
      "text/plain": [
       "<matplotlib.colorbar.Colorbar at 0x225ff10f3a0>"
      ]
     },
     "execution_count": 8,
     "metadata": {},
     "output_type": "execute_result"
    },
    {
     "data": {
      "image/png": "[encoded data removed]",
      "text/plain": [
       "<Figure size 504x216 with 3 Axes>"
      ]
     },
     "metadata": {
      "needs_background": "light"
     },
     "output_type": "display_data"
    }
   ],
   "source": [
    "# Ensayos de graficación. Ignorar esta parte\n",
    "\n",
    "import matplotlib.pyplot as plt\n",
    "import numpy as np\n",
    "\n",
    "N=M=200\n",
    "x, y = np.ogrid[0:20:N*1j, 0:20:M*10]\n",
    "data = np.sin(np.pi*x*2/20)*np.cos(np.pi*y*2/20)\n",
    "\n",
    "fig, (ax2, ax1) = plt.subplots(1, 2, figsize=(7,3))\n",
    "im = ax1.imshow(data, extent=[0,200,0,200])\n",
    "fig.colorbar(im, ax=ax1, shrink=0.85)"
   ]
  },
  {
   "cell_type": "code",
   "execution_count": null,
   "metadata": {},
   "outputs": [],
   "source": []
  }
 ],
 "metadata": {
  "kernelspec": {
   "display_name": "Python 3",
   "language": "python",
   "name": "python3"
  },
  "language_info": {
   "codemirror_mode": {
    "name": "ipython",
    "version": 3
   },
   "file_extension": ".py",
   "mimetype": "text/x-python",
   "name": "python",
   "nbconvert_exporter": "python",
   "pygments_lexer": "ipython3",
   "version": "3.8.3"
  }
 },
 "nbformat": 4,
 "nbformat_minor": 4
}
